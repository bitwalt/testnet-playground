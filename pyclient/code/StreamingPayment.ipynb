{
 "cells": [
  {
   "cell_type": "code",
   "execution_count": 4,
   "id": "dfcce188",
   "metadata": {},
   "outputs": [
    {
     "name": "stderr",
     "output_type": "stream",
     "text": [
      "2022-05-28 00:38:30.413 | INFO     | lnd_wallet:connect:35 - Connected to LND node\n"
     ]
    }
   ],
   "source": [
    "from lnd_wallet import LightningWallet\n",
    "from configs import *\n",
    "GRPC_PORT = 10009\n",
    "\n",
    "alice_wallet = LightningWallet(\"alice\", LND_IP, GRPC_PORT)\n"
   ]
  },
  {
   "cell_type": "code",
   "execution_count": 5,
   "id": "66107f3d",
   "metadata": {},
   "outputs": [
    {
     "name": "stderr",
     "output_type": "stream",
     "text": [
      "2022-05-28 00:38:30.484 | INFO     | lnd_wallet:connect:35 - Connected to LND node\n"
     ]
    },
    {
     "name": "stdout",
     "output_type": "stream",
     "text": [
      "Bob PubKey: 024cacb966972ebe2c03f0047c181e55613730ce83202283948c8f4d7731e5cb20\n"
     ]
    }
   ],
   "source": [
    "bob_wallet = LightningWallet(\"bob\", LND_IP_BOB, GRPC_PORT)\n",
    "bob_info = bob_wallet.get_info()\n",
    "bob_pubkey = bob_info.identity_pubkey\n",
    "print(f\"Bob PubKey: {bob_pubkey}\")"
   ]
  },
  {
   "cell_type": "code",
   "execution_count": 7,
   "id": "7309f4de",
   "metadata": {},
   "outputs": [
    {
     "ename": "ModuleNotFoundError",
     "evalue": "No module named 'rpc_pb2'",
     "output_type": "error",
     "traceback": [
      "\u001b[0;31m---------------------------------------------------------------------------\u001b[0m",
      "\u001b[0;31mModuleNotFoundError\u001b[0m                       Traceback (most recent call last)",
      "\u001b[1;32m/home/pyclient/code/StreamingPayment.ipynb Cell 3'\u001b[0m in \u001b[0;36m<cell line: 1>\u001b[0;34m()\u001b[0m\n\u001b[0;32m----> <a href='vscode-notebook-cell://attached-container%2B7b22636f6e7461696e65724e616d65223a222f7079636c69656e74227d/home/pyclient/code/StreamingPayment.ipynb#ch0000002vscode-remote?line=0'>1</a>\u001b[0m \u001b[39mfrom\u001b[39;00m \u001b[39mlnd\u001b[39;00m \u001b[39mimport\u001b[39;00m RpcClient\n\u001b[1;32m      <a href='vscode-notebook-cell://attached-container%2B7b22636f6e7461696e65724e616d65223a222f7079636c69656e74227d/home/pyclient/code/StreamingPayment.ipynb#ch0000002vscode-remote?line=3'>4</a>\u001b[0m BOB_DOCKER \u001b[39m=\u001b[39m {\n\u001b[1;32m      <a href='vscode-notebook-cell://attached-container%2B7b22636f6e7461696e65724e616d65223a222f7079636c69656e74227d/home/pyclient/code/StreamingPayment.ipynb#ch0000002vscode-remote?line=4'>5</a>\u001b[0m     \u001b[39m'\u001b[39m\u001b[39mname\u001b[39m\u001b[39m'\u001b[39m: \u001b[39m'\u001b[39m\u001b[39mBob\u001b[39m\u001b[39m'\u001b[39m,\n\u001b[1;32m      <a href='vscode-notebook-cell://attached-container%2B7b22636f6e7461696e65724e616d65223a222f7079636c69656e74227d/home/pyclient/code/StreamingPayment.ipynb#ch0000002vscode-remote?line=5'>6</a>\u001b[0m     \u001b[39m'\u001b[39m\u001b[39mnode_host\u001b[39m\u001b[39m'\u001b[39m: \u001b[39mf\u001b[39m\u001b[39m'\u001b[39m\u001b[39m{\u001b[39;00mLND_IP_BOB\u001b[39m}\u001b[39;00m\u001b[39m:9011\u001b[39m\u001b[39m'\u001b[39m,\n\u001b[0;32m   (...)\u001b[0m\n\u001b[1;32m     <a href='vscode-notebook-cell://attached-container%2B7b22636f6e7461696e65724e616d65223a222f7079636c69656e74227d/home/pyclient/code/StreamingPayment.ipynb#ch0000002vscode-remote?line=10'>11</a>\u001b[0m     \u001b[39m'\u001b[39m\u001b[39madmin_macaroon\u001b[39m\u001b[39m'\u001b[39m: \u001b[39m'\u001b[39m\u001b[39m/lnd_share/bob/admin.macaroon\u001b[39m\u001b[39m'\u001b[39m\n\u001b[1;32m     <a href='vscode-notebook-cell://attached-container%2B7b22636f6e7461696e65724e616d65223a222f7079636c69656e74227d/home/pyclient/code/StreamingPayment.ipynb#ch0000002vscode-remote?line=11'>12</a>\u001b[0m }\n\u001b[1;32m     <a href='vscode-notebook-cell://attached-container%2B7b22636f6e7461696e65724e616d65223a222f7079636c69656e74227d/home/pyclient/code/StreamingPayment.ipynb#ch0000002vscode-remote?line=12'>13</a>\u001b[0m bob \u001b[39m=\u001b[39m  RpcClient(BOB_DOCKER)\n",
      "File \u001b[0;32m/home/pyclient/code/lnd.py:7\u001b[0m, in \u001b[0;36m<module>\u001b[0;34m\u001b[0m\n\u001b[1;32m      <a href='file:///home/pyclient/code/lnd.py?line=2'>3</a>\u001b[0m \u001b[39mimport\u001b[39;00m \u001b[39mos\u001b[39;00m\n\u001b[1;32m      <a href='file:///home/pyclient/code/lnd.py?line=4'>5</a>\u001b[0m \u001b[39mimport\u001b[39;00m \u001b[39mgrpc\u001b[39;00m\n\u001b[0;32m----> <a href='file:///home/pyclient/code/lnd.py?line=6'>7</a>\u001b[0m \u001b[39mimport\u001b[39;00m \u001b[39mrpc_pb2\u001b[39;00m \u001b[39mas\u001b[39;00m \u001b[39mln\u001b[39;00m\n\u001b[1;32m      <a href='file:///home/pyclient/code/lnd.py?line=7'>8</a>\u001b[0m \u001b[39mimport\u001b[39;00m \u001b[39mrpc_pb2_grpc\u001b[39;00m \u001b[39mas\u001b[39;00m \u001b[39mlnrpc\u001b[39;00m\n\u001b[1;32m     <a href='file:///home/pyclient/code/lnd.py?line=9'>10</a>\u001b[0m logging\u001b[39m.\u001b[39mbasicConfig(level\u001b[39m=\u001b[39mlogging\u001b[39m.\u001b[39mDEBUG, \u001b[39mformat\u001b[39m\u001b[39m=\u001b[39m\u001b[39m'\u001b[39m\u001b[39m%(levelname)s\u001b[39;00m\u001b[39m: \u001b[39m\u001b[39m%(message)s\u001b[39;00m\u001b[39m'\u001b[39m, )\n",
      "\u001b[0;31mModuleNotFoundError\u001b[0m: No module named 'rpc_pb2'"
     ]
    }
   ],
   "source": [
    "from lnd import RpcClient\n",
    "\n",
    "\n",
    "BOB_DOCKER = {\n",
    "    'name': 'Bob',\n",
    "    'node_host': f'{LND_IP_BOB}:9011',\n",
    "    'rpc_host': f'{LND_IP_BOB}:{GRPC_PORT}',\n",
    "    'tls_cert': '/lnd_share/bob/tls.cert',\n",
    "    'wallet': '/lnd_share/bob/wallet.db',\n",
    "    'logs': '/lnd_share/bob/logs/',\n",
    "    'admin_macaroon': '/lnd_share/bob/admin.macaroon'\n",
    "}\n",
    "bob =  RpcClient(BOB_DOCKER)"
   ]
  }
 ],
 "metadata": {
  "kernelspec": {
   "display_name": "Python 3 (ipykernel)",
   "language": "python",
   "name": "python3"
  },
  "language_info": {
   "codemirror_mode": {
    "name": "ipython",
    "version": 3
   },
   "file_extension": ".py",
   "mimetype": "text/x-python",
   "name": "python",
   "nbconvert_exporter": "python",
   "pygments_lexer": "ipython3",
   "version": "3.10.4"
  }
 },
 "nbformat": 4,
 "nbformat_minor": 5
}
