{
 "cells": [
  {
   "cell_type": "code",
   "execution_count": 1,
   "id": "dfcce188",
   "metadata": {},
   "outputs": [
    {
     "name": "stderr",
     "output_type": "stream",
     "text": [
      "2022-05-25 09:27:39.095 | INFO     | lnd_wallet:connect:35 - Connected to LND node\n"
     ]
    }
   ],
   "source": [
    "from lnd_wallet import LightningWallet\n",
    "from configs import *\n",
    "GRPC_PORT = 10009\n",
    "\n",
    "alice_wallet = LightningWallet(\"alice\", LND_IP, GRPC_PORT)"
   ]
  },
  {
   "cell_type": "code",
   "execution_count": 5,
   "id": "66107f3d",
   "metadata": {},
   "outputs": [
    {
     "name": "stderr",
     "output_type": "stream",
     "text": [
      "2022-05-25 09:28:24.047 | INFO     | lnd_wallet:connect:35 - Connected to LND node\n"
     ]
    },
    {
     "name": "stdout",
     "output_type": "stream",
     "text": [
      "Bob PubKey: 0382083b06c916025543e20fcb054e54d40197740b79c4092ba9f6875929620bbf\n"
     ]
    }
   ],
   "source": [
    "bob_wallet = LightningWallet(\"bob\", LND_IP_BOB, GRPC_PORT)\n",
    "bob_info = bob_wallet.get_info()\n",
    "bob_pubkey = bob_info.identity_pubkey\n",
    "print(f\"Bob PubKey: {bob_pubkey}\")"
   ]
  },
  {
   "cell_type": "code",
   "execution_count": 8,
   "id": "7309f4de",
   "metadata": {},
   "outputs": [
    {
     "ename": "TypeError",
     "evalue": "LightningWallet.request_generator() got multiple values for argument 'dest'",
     "output_type": "error",
     "traceback": [
      "\u001b[0;31m---------------------------------------------------------------------------\u001b[0m",
      "\u001b[0;31mTypeError\u001b[0m                                 Traceback (most recent call last)",
      "Input \u001b[0;32mIn [8]\u001b[0m, in \u001b[0;36m<cell line: 1>\u001b[0;34m()\u001b[0m\n\u001b[0;32m----> 1\u001b[0m \u001b[43malice_wallet\u001b[49m\u001b[38;5;241;43m.\u001b[39;49m\u001b[43mcreate_streaming_payment\u001b[49m\u001b[43m(\u001b[49m\u001b[43mbob_pubkey\u001b[49m\u001b[43m,\u001b[49m\u001b[43m \u001b[49m\u001b[43mamount\u001b[49m\u001b[38;5;241;43m=\u001b[39;49m\u001b[38;5;241;43m1000\u001b[39;49m\u001b[43m)\u001b[49m\n",
      "File \u001b[0;32m/home/pyclient/code/lnd_wallet.py:87\u001b[0m, in \u001b[0;36mLightningWallet.create_streaming_payment\u001b[0;34m(self, dest_pub_key_hex, amount)\u001b[0m\n\u001b[1;32m     84\u001b[0m \u001b[38;5;28;01mdef\u001b[39;00m \u001b[38;5;21mcreate_streaming_payment\u001b[39m(\u001b[38;5;28mself\u001b[39m, dest_pub_key_hex, amount\u001b[38;5;241m=\u001b[39m\u001b[38;5;241m100\u001b[39m):\n\u001b[1;32m     85\u001b[0m     \u001b[38;5;66;03m# Outputs from lncli are hex-encoded\u001b[39;00m\n\u001b[1;32m     86\u001b[0m     dest_bytes \u001b[38;5;241m=\u001b[39m codecs\u001b[38;5;241m.\u001b[39mdecode(dest_pub_key_hex, \u001b[38;5;124m'\u001b[39m\u001b[38;5;124mhex\u001b[39m\u001b[38;5;124m'\u001b[39m)\n\u001b[0;32m---> 87\u001b[0m     request_iterable \u001b[38;5;241m=\u001b[39m \u001b[38;5;28;43mself\u001b[39;49m\u001b[38;5;241;43m.\u001b[39;49m\u001b[43mrequest_generator\u001b[49m\u001b[43m(\u001b[49m\u001b[43mdest\u001b[49m\u001b[38;5;241;43m=\u001b[39;49m\u001b[43mdest_bytes\u001b[49m\u001b[43m,\u001b[49m\u001b[43m \u001b[49m\u001b[43mamt\u001b[49m\u001b[38;5;241;43m=\u001b[39;49m\u001b[43mamount\u001b[49m\u001b[43m)\u001b[49m\n\u001b[1;32m     88\u001b[0m     \u001b[38;5;28;01mfor\u001b[39;00m payment \u001b[38;5;129;01min\u001b[39;00m \u001b[38;5;28mself\u001b[39m\u001b[38;5;241m.\u001b[39mstub\u001b[38;5;241m.\u001b[39mSendPayment(request_iterable):\n\u001b[1;32m     89\u001b[0m         \u001b[38;5;28mprint\u001b[39m(payment)\n",
      "\u001b[0;31mTypeError\u001b[0m: LightningWallet.request_generator() got multiple values for argument 'dest'"
     ]
    }
   ],
   "source": [
    "alice_wallet.create_streaming_payment(bob_pubkey, amount=1000)"
   ]
  }
 ],
 "metadata": {
  "kernelspec": {
   "display_name": "Python 3 (ipykernel)",
   "language": "python",
   "name": "python3"
  },
  "language_info": {
   "codemirror_mode": {
    "name": "ipython",
    "version": 3
   },
   "file_extension": ".py",
   "mimetype": "text/x-python",
   "name": "python",
   "nbconvert_exporter": "python",
   "pygments_lexer": "ipython3",
   "version": "3.10.4"
  }
 },
 "nbformat": 4,
 "nbformat_minor": 5
}
