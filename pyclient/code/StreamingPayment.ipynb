{
 "cells": [
  {
   "cell_type": "code",
   "execution_count": 2,
   "id": "dfcce188",
   "metadata": {},
   "outputs": [
    {
     "ename": "ModuleNotFoundError",
     "evalue": "No module named 'schedule'",
     "output_type": "error",
     "traceback": [
      "\u001b[0;31m---------------------------------------------------------------------------\u001b[0m",
      "\u001b[0;31mModuleNotFoundError\u001b[0m                       Traceback (most recent call last)",
      "Input \u001b[0;32mIn [2]\u001b[0m, in \u001b[0;36m<cell line: 5>\u001b[0;34m()\u001b[0m\n\u001b[1;32m      3\u001b[0m \u001b[38;5;28;01mfrom\u001b[39;00m \u001b[38;5;21;01mclient\u001b[39;00m \u001b[38;5;28;01mimport\u001b[39;00m BtcClient\n\u001b[1;32m      4\u001b[0m \u001b[38;5;28;01mimport\u001b[39;00m \u001b[38;5;21;01mlogging\u001b[39;00m \u001b[38;5;28;01mas\u001b[39;00m \u001b[38;5;21;01mlogger\u001b[39;00m\n\u001b[0;32m----> 5\u001b[0m \u001b[38;5;28;01mimport\u001b[39;00m \u001b[38;5;21;01mschedule\u001b[39;00m\n",
      "\u001b[0;31mModuleNotFoundError\u001b[0m: No module named 'schedule'"
     ]
    }
   ],
   "source": [
    "from client_conf import ALICE_DOCKER, BOB_DOCKER, CHARLIE_DOCKER, BITCOIN_DOCKER\n",
    "from lnd import LndClient\n",
    "from client import BtcClient\n",
    "import logging as logger\n",
    "import schedule"
   ]
  },
  {
   "cell_type": "markdown",
   "id": "f1ca3901",
   "metadata": {},
   "source": [
    "Bitcoin enables a new kind of payment, called a \"streaming payment\".\n",
    "You can send fraction of satoshis to a peer in a periodic time range"
   ]
  },
  {
   "cell_type": "markdown",
   "id": "7ee241fa",
   "metadata": {},
   "source": [
    "## Connect to Bitcoin Core and Lightning Deamon\n"
   ]
  },
  {
   "cell_type": "code",
   "execution_count": 4,
   "id": "66107f3d",
   "metadata": {},
   "outputs": [
    {
     "name": "stderr",
     "output_type": "stream",
     "text": [
      "INFO: CONNECTING TO Alice: 10.21.21.9:10009\n",
      "INFO: CONNECTING TO Bob: 10.21.21.20:10009\n"
     ]
    },
    {
     "name": "stdout",
     "output_type": "stream",
     "text": [
      "Alice PubKey:  02ac1de718a6f13abf333761e8cb005cb771886b3802b1b40ceaff904cb965a472\n",
      "Bob PubKey:  02f5b1d78ba8db8cb6d0e4f616e6976b27292a28b6aca34cf640e5284fec0e7f4c\n"
     ]
    }
   ],
   "source": [
    "alice = LndClient(ALICE_DOCKER)\n",
    "bob =  LndClient(BOB_DOCKER)\n",
    "charlie =  LndClient(BOB_DOCKER)\n",
    "bitcoin_node = BtcClient(BITCOIN_DOCKER)\n",
    "\n",
    "print(\"Alice PubKey: \", alice.pubkey)\n",
    "print(\"Bob PubKey: \", bob.pubkey)"
   ]
  },
  {
   "cell_type": "markdown",
   "id": "159783e4",
   "metadata": {},
   "source": [
    "## Fund and open channel"
   ]
  },
  {
   "cell_type": "code",
   "execution_count": 5,
   "id": "cc78d904",
   "metadata": {},
   "outputs": [],
   "source": [
    "def fund_node(bitcoin_node, ln_node, amount):\n",
    "    address = ln_node.address().address\n",
    "    logger.info(f\"Funding {ln_node} with {amount} BTC at {address}\")\n",
    "    bitcoin_node.sendtoaddress(address, amount)\n",
    "    bitcoin_node.generate(6)\n",
    "    logger.info(ln_node.wallet_balance())\n",
    "    logger.info(\"Funding complete\")  "
   ]
  },
  {
   "cell_type": "code",
   "execution_count": 6,
   "id": "d1c0eb05",
   "metadata": {},
   "outputs": [
    {
     "name": "stderr",
     "output_type": "stream",
     "text": [
      "INFO: Funding Alice with 4 BTC at bcrt1q2t7xvh04cx76j8g38qnlthm9w8xctc7n86mz2p\n",
      "DEBUG: Starting new HTTP connection (1): 10.21.21.8:18443\n",
      "DEBUG: http://10.21.21.8:18443 \"POST / HTTP/1.1\" 200 98\n",
      "DEBUG: Starting new HTTP connection (1): 10.21.21.8:18443\n",
      "DEBUG: http://10.21.21.8:18443 \"POST / HTTP/1.1\" 200 78\n",
      "DEBUG: Starting new HTTP connection (1): 10.21.21.8:18443\n",
      "DEBUG: http://10.21.21.8:18443 \"POST / HTTP/1.1\" 200 435\n",
      "INFO: {'node': 'Alice', 'total_balance': 400000000, 'confirmed_balance': 400000000, 'unconfirmed_balance': 0}\n",
      "INFO: Funding complete\n",
      "INFO: Funding Bob with 3 BTC at bcrt1q8286u6ywe80uzsausdhdtguy3u0nzqyxcahm5m\n",
      "DEBUG: Starting new HTTP connection (1): 10.21.21.8:18443\n",
      "DEBUG: http://10.21.21.8:18443 \"POST / HTTP/1.1\" 200 98\n",
      "DEBUG: Starting new HTTP connection (1): 10.21.21.8:18443\n",
      "DEBUG: http://10.21.21.8:18443 \"POST / HTTP/1.1\" 200 78\n",
      "DEBUG: Starting new HTTP connection (1): 10.21.21.8:18443\n",
      "DEBUG: http://10.21.21.8:18443 \"POST / HTTP/1.1\" 200 435\n",
      "INFO: {'node': 'Bob', 'total_balance': 300000000, 'confirmed_balance': 300000000, 'unconfirmed_balance': 0}\n",
      "INFO: Funding complete\n"
     ]
    }
   ],
   "source": [
    "fund_node(bitcoin_node, alice, 4)\n",
    "fund_node(bitcoin_node, bob, 3)"
   ]
  },
  {
   "cell_type": "code",
   "execution_count": 9,
   "id": "ba3afa64",
   "metadata": {},
   "outputs": [],
   "source": [
    "def open_channel(node, pubkey, amount):\n",
    "    \n",
    "    logger.info(f\"[{node}] Opening channel with {pubkey}..\")\n",
    "    if not node.channel_exists_with_node(pubkey):    \n",
    "        params = {\n",
    "            \"node_pubkey_string\": pubkey,\n",
    "            \"local_funding_amount\": amount\n",
    "        }\n",
    "        node.open_channel(**params)\n",
    "        logger.info(f\"[{node}] Channel with {pubkey} opened!\")\n",
    "    else: \n",
    "        logger.info(f\"[{node}] Channel with {pubkey} already exists\")    "
   ]
  },
  {
   "cell_type": "code",
   "execution_count": 10,
   "id": "63db3a7c",
   "metadata": {},
   "outputs": [
    {
     "name": "stderr",
     "output_type": "stream",
     "text": [
      "INFO: [Alice] Opening channel with 02f5b1d78ba8db8cb6d0e4f616e6976b27292a28b6aca34cf640e5284fec0e7f4c..\n",
      "ERROR: <_InactiveRpcError of RPC that terminated with:\n",
      "\tstatus = StatusCode.UNKNOWN\n",
      "\tdetails = \"peer 02f5b1d78ba8db8cb6d0e4f616e6976b27292a28b6aca34cf640e5284fec0e7f4c is not online\"\n",
      "\tdebug_error_string = \"{\"created\":\"@1654127596.396432382\",\"description\":\"Error received from peer ipv4:10.21.21.9:10009\",\"file\":\"src/core/lib/surface/call.cc\",\"file_line\":952,\"grpc_message\":\"peer 02f5b1d78ba8db8cb6d0e4f616e6976b27292a28b6aca34cf640e5284fec0e7f4c is not online\",\"grpc_status\":2}\"\n",
      ">\n",
      "Traceback (most recent call last):\n",
      "  File \"/home/pyclient/code/lnd.py\", line 307, in open_channel\n",
      "    response = self.client.OpenChannelSync(request)\n",
      "  File \"/usr/local/lib/python3.10/site-packages/grpc/_channel.py\", line 946, in __call__\n",
      "    return _end_unary_response_blocking(state, call, False, None)\n",
      "  File \"/usr/local/lib/python3.10/site-packages/grpc/_channel.py\", line 849, in _end_unary_response_blocking\n",
      "    raise _InactiveRpcError(state)\n",
      "grpc._channel._InactiveRpcError: <_InactiveRpcError of RPC that terminated with:\n",
      "\tstatus = StatusCode.UNKNOWN\n",
      "\tdetails = \"peer 02f5b1d78ba8db8cb6d0e4f616e6976b27292a28b6aca34cf640e5284fec0e7f4c is not online\"\n",
      "\tdebug_error_string = \"{\"created\":\"@1654127596.396432382\",\"description\":\"Error received from peer ipv4:10.21.21.9:10009\",\"file\":\"src/core/lib/surface/call.cc\",\"file_line\":952,\"grpc_message\":\"peer 02f5b1d78ba8db8cb6d0e4f616e6976b27292a28b6aca34cf640e5284fec0e7f4c is not online\",\"grpc_status\":2}\"\n",
      ">\n",
      "INFO: [Alice] Channel with 02f5b1d78ba8db8cb6d0e4f616e6976b27292a28b6aca34cf640e5284fec0e7f4c opened!\n"
     ]
    }
   ],
   "source": [
    "open_channel(alice, bob.pubkey, 1000000)"
   ]
  },
  {
   "cell_type": "markdown",
   "id": "2116f115",
   "metadata": {},
   "source": [
    "## Create a stream of payments"
   ]
  },
  {
   "cell_type": "code",
   "execution_count": null,
   "id": "d3e2505f",
   "metadata": {},
   "outputs": [],
   "source": [
    "total_sats = 50000 # Total number of satoshi \n",
    "periodic_sats = 1000 # Number of sats to send every interval\n",
    "tot_interval = total_sats // periodic_sats\n",
    "\n",
    "\n",
    "def periodic_payment(node, pubkey, amount, intervals):\n",
    "    \"\"\"\n",
    "    Schedule a payment to be sent to the target node\n",
    "    \"\"\"\n",
    "    if not node.channel_exists_with_node(pubkey):\n",
    "        open_channel(node, pubkey, amount)\n",
    "        \n",
    "    node.schedule_payment(pubkey, amount, interval)\n",
    "    logger.info(f\"[{node}] Payment scheduled!\")\n",
    "    \n"
   ]
  },
  {
   "cell_type": "code",
   "execution_count": null,
   "id": "9dbe1c1d",
   "metadata": {},
   "outputs": [],
   "source": [
    "# schedule.every().thursday.at(\"17:00\").do(periodic_payment)\n",
    "schedule.every(3).seconds.do(periodic_payment)\n"
   ]
  }
 ],
 "metadata": {
  "kernelspec": {
   "display_name": "Python 3 (ipykernel)",
   "language": "python",
   "name": "python3"
  },
  "language_info": {
   "codemirror_mode": {
    "name": "ipython",
    "version": 3
   },
   "file_extension": ".py",
   "mimetype": "text/x-python",
   "name": "python",
   "nbconvert_exporter": "python",
   "pygments_lexer": "ipython3",
   "version": "3.10.4"
  }
 },
 "nbformat": 4,
 "nbformat_minor": 5
}
